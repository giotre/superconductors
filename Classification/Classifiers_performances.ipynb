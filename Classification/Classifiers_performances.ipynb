{
 "cells": [
  {
   "cell_type": "code",
   "execution_count": 1,
   "metadata": {},
   "outputs": [],
   "source": [
    "from sklearn.pipeline import Pipeline\n",
    "import numpy as np\n",
    "from sklearn.model_selection import GridSearchCV\n",
    "import pandas as pd\n",
    "import sklearn\n",
    "from sklearn import preprocessing\n",
    "from sklearn.model_selection import KFold\n",
    "from sklearn.feature_selection import SelectPercentile, SelectKBest, f_regression, f_classif, chi2, VarianceThreshold\n",
    "from sklearn.base import TransformerMixin, BaseEstimator\n",
    "from sklearn.model_selection import train_test_split, StratifiedKFold\n",
    "from sklearn.ensemble import RandomForestRegressor\n",
    "from sklearn.metrics import mean_absolute_error, mean_squared_error\n",
    "from sklearn.metrics import r2_score\n",
    "import matplotlib.pyplot as plt\n",
    "from sklearn.ensemble import ExtraTreesClassifier\n",
    "from sklearn.metrics import f1_score, roc_auc_score, roc_curve\n",
    "from matplotlib import pyplot\n",
    "from sklearn.ensemble import ExtraTreesClassifier\n",
    "from sklearn.datasets import make_classification"
   ]
  },
  {
   "cell_type": "code",
   "execution_count": 2,
   "metadata": {},
   "outputs": [],
   "source": [
    "probs = pd.read_excel('classifiers_comparison.xlsx', index_col = 0)"
   ]
  },
  {
   "cell_type": "code",
   "execution_count": null,
   "metadata": {},
   "outputs": [],
   "source": [
    "'''Function for getting the performances of the classifiers'''\n",
    "\n",
    "def f1_metrics(P, thresholds, tpr, fpr, classifier):\n",
    "    matrix_classifier = np.zeros([len(P), len(thresholds)])\n",
    "    for j in range(len(thresholds)):\n",
    "        for i in range(len(P)):\n",
    "            if P[classifier].iloc[i] >= thresholds[j]:\n",
    "                matrix_classifier[i][j] = 1\n",
    "\n",
    "    f1_classifier = np.zeros(np.shape(matrix_classifier)[1])\n",
    "    for i in range(len(thresholds)):\n",
    "        f1_classifier[i] = f1_score(P['class'], matrix_classifier.transpose()[i]) \n",
    "    \n",
    "    roc_auc = roc_auc_score(P['class'], P[classifier])\n",
    "    thr_J = thresholds[np.argmax(tpr-fpr)]\n",
    "    max_J = np.max(tpr-fpr)\n",
    "    thr_f1 = thresholds[np.argmax(f1_classifier)]\n",
    "    max_f1 = np.max(f1_classifier)\n",
    "        \n",
    "    return(roc_auc, thr_J, max_J, thr_f1, max_f1)"
   ]
  },
  {
   "cell_type": "code",
   "execution_count": null,
   "metadata": {},
   "outputs": [],
   "source": [
    "fpr1, tpr1, thresholds1 = roc_curve(probs['class'], probs['QEG_2D']) \n",
    "fpr2, tpr2, thresholds2 = roc_curve(probs['class'], probs['QEG_2D_bagged']) \n",
    "fpr3, tpr3, thresholds3 = roc_curve(probs['class'], probs['QEG_3D'])\n",
    "fpr4, tpr4, thresholds4 = roc_curve(probs['class'], probs['ETC_2d_high'])\n",
    "fpr5, tpr5, thresholds5 = roc_curve(probs['class'], probs['ETC_3d_high'])\n",
    "fpr6, tpr6, thresholds6 = roc_curve(probs['class'], probs['ETC_2d_middle'])\n",
    "fpr7, tpr7, thresholds7 = roc_curve(probs['class'], probs['ETC_3d_middle'])\n",
    "fpr8, tpr8, thresholds8 = roc_curve(probs['class'], probs['ETC_2d_low'])\n",
    "fpr9, tpr9, thresholds9 = roc_curve(probs['class'], probs['ETC_3d_low'])\n",
    "fpr10, tpr10, thresholds10 = roc_curve(probs['class'], probs['ETC_vanilla'])\n",
    "fpr11, tpr11, thresholds11 = roc_curve(probs['class'], probs['ETC_smote'])\n",
    "fpr12, tpr12, thresholds12 = roc_curve(probs['class'], probs['ETC_vanilla_81'])\n",
    "fpr13, tpr13, thresholds13 = roc_curve(probs['class'], probs['ETC_smote_81'])\n",
    "fpr14, tpr14, thresholds14 = roc_curve(probs['class'], probs['qeg_mixed_pow_2d'])\n",
    "fpr15, tpr15, thresholds15 = roc_curve(probs['class'], probs['qeg_mixed_lin_2d'])\n",
    "fpr16, tpr16, thresholds16 = roc_curve(probs['class'], probs['ETC_2d_mixed_pow'])\n",
    "fpr17, tpr17, thresholds17 = roc_curve(probs['class'], probs['ETC_2d_mixed_lin'])\n",
    "fpr18, tpr18, thresholds18 = roc_curve(probs['class'], probs['naive_mixed_2d_pow'])\n",
    "fpr19, tpr19, thresholds19 = roc_curve(probs['class'], probs['naive_mixed_2d_lin'])\n",
    "fpr20, tpr20, thresholds20 = roc_curve(probs['class'], probs['naive_2d_high'])"
   ]
  },
  {
   "cell_type": "code",
   "execution_count": null,
   "metadata": {},
   "outputs": [],
   "source": [
    "fig = plt.figure(figsize=(3, 3), dpi = 190)\n",
    "\n",
    "alpha = .4\n",
    "\n",
    "pyplot.plot([0,1], [0,1], linestyle='--', label='No skill')\n",
    "pyplot.plot(fpr1, tpr1, marker='.', label='QEG 2D', alpha = alpha)\n",
    "pyplot.plot(fpr2, tpr2, marker='.', label='QEG 2D bagged', alpha = alpha)\n",
    "pyplot.plot(fpr3, tpr3, marker='.', label='QEG 3D', alpha = alpha)\n",
    "pyplot.plot(fpr4, tpr4, marker='.', label='ETC 2D-high', alpha = alpha)\n",
    "pyplot.plot(fpr5, tpr5, marker='.', label='ETC 3D-high', alpha = alpha)\n",
    "pyplot.plot(fpr14, tpr14, marker='.', label='QEG 2D-mixed pow', alpha = alpha)\n",
    "pyplot.plot(fpr15, tpr15, marker='.', label='QEG 2D-mixed lin', alpha = alpha)\n",
    "pyplot.plot(fpr16, tpr16, marker='.', label='ETC 2D-mixed pow', alpha = alpha)\n",
    "pyplot.plot(fpr17, tpr17, marker='.', label='ETC 2D-mixed lin', alpha = alpha)\n",
    "\n",
    "pyplot.xlabel('FPR (-)')\n",
    "pyplot.ylabel('TPR (-)')\n",
    "pyplot.legend(bbox_to_anchor=(1.0001, 1), ncol=1, frameon = False, fontsize = 8)\n",
    "pyplot.show()"
   ]
  }
 ],
 "metadata": {
  "kernelspec": {
   "display_name": "Python 3",
   "language": "python",
   "name": "python3"
  },
  "language_info": {
   "codemirror_mode": {
    "name": "ipython",
    "version": 3
   },
   "file_extension": ".py",
   "mimetype": "text/x-python",
   "name": "python",
   "nbconvert_exporter": "python",
   "pygments_lexer": "ipython3",
   "version": "3.7.6"
  }
 },
 "nbformat": 4,
 "nbformat_minor": 4
}
