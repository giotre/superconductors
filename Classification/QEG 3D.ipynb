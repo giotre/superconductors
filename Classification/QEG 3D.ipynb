{
 "cells": [
  {
   "cell_type": "code",
   "execution_count": 1,
   "metadata": {},
   "outputs": [],
   "source": [
    "from sklearn.pipeline import Pipeline\n",
    "import numpy as np\n",
    "from sklearn.model_selection import GridSearchCV\n",
    "import pandas as pd\n",
    "import sklearn\n",
    "from sklearn import preprocessing\n",
    "from sklearn.model_selection import KFold\n",
    "from sklearn.feature_selection import SelectPercentile, SelectKBest, f_regression, chi2, VarianceThreshold\n",
    "from sklearn.base import TransformerMixin, BaseEstimator\n",
    "from sklearn.model_selection import train_test_split\n",
    "from sklearn.ensemble import RandomForestRegressor\n",
    "from sklearn.metrics import mean_absolute_error, mean_squared_error\n",
    "from sklearn.metrics import r2_score\n",
    "import matplotlib.pyplot as plt\n",
    "import sympy\n",
    "from sympy import Matrix\n",
    "from scipy.linalg import null_space\n",
    "import itertools"
   ]
  },
  {
   "cell_type": "code",
   "execution_count": 3,
   "metadata": {},
   "outputs": [],
   "source": [
    "Data = pd.read_excel(r'database.xlsx', index_col=0)"
   ]
  },
  {
   "cell_type": "code",
   "execution_count": 4,
   "metadata": {},
   "outputs": [
    {
     "name": "stderr",
     "output_type": "stream",
     "text": [
      "100%|██████████| 16763/16763 [00:00<00:00, 149670.61it/s]\n"
     ]
    }
   ],
   "source": [
    "import tqdm\n",
    "rows_to_drop = []\n",
    "for i in tqdm.tqdm(range(len(Data))):\n",
    "    if 'Cu' in Data.index[i] or 'Fe' in Data.index[i] or 'Ni' in Data.index[i] or 'O' in Data.index[i] or Data['Tc'].iloc[i]>50:\n",
    "        rows_to_drop.append(Data.index[i])"
   ]
  },
  {
   "cell_type": "code",
   "execution_count": 5,
   "metadata": {},
   "outputs": [],
   "source": [
    "data_reduced = Data.drop(rows_to_drop)\n",
    "train_df, test_df = train_test_split(data_reduced, test_size = 0.15, random_state = 0)"
   ]
  },
  {
   "cell_type": "code",
   "execution_count": 11,
   "metadata": {},
   "outputs": [],
   "source": [
    "sample = np.array([data['MagpieData range MeltingT'].values, \n",
    "                   data['0-norm'].values, \n",
    "                   data['MagpieData mode NdUnfilled'].values]).transpose()"
   ]
  },
  {
   "cell_type": "code",
   "execution_count": 43,
   "metadata": {},
   "outputs": [],
   "source": [
    "H, edges = np.histogramdd(sample, bins = [10, 6, 10], range = [None, None, None])"
   ]
  },
  {
   "cell_type": "code",
   "execution_count": 46,
   "metadata": {},
   "outputs": [],
   "source": [
    "edges = [np.array([ 0.,  380.899,  761.798, 1142.697, 1523.596, 1904.495, 2285.394, 2666.293, 3047.192, 3428.091, 3808.99 ]),\n",
    "                  np.array([1.        , 1.83333333, 2.66666667, 3.5       , 4.33333333, 5.16666667, 6.        ]),\n",
    "         np.array([0. , 0.9, 1.8, 2.7, 3.6, 4.5, 5.4, 6.3, 7.2, 8.1, 9. ])\n",
    "]"
   ]
  },
  {
   "cell_type": "code",
   "execution_count": 51,
   "metadata": {},
   "outputs": [],
   "source": [
    "def define_system(sample):\n",
    "    \n",
    "    H, edges = np.histogramdd(sample, bins = [10, 6, 10], range = [[0, 3808.99], [1., 6.], [0., 9.]])\n",
    "    n_variables = np.shape(sample)[1]\n",
    "    alpha_x1 = (edges[0] + (edges[0][1]-edges[0][0])/(2))[:-1]\n",
    "    alpha_x2 = (edges[1] + (edges[1][1]-edges[1][0])/(2))[:-1]\n",
    "    alpha_x3 = (edges[2] + (edges[2][1]-edges[2][0])/(2))[:-1]\n",
    "\n",
    "    combinations = np.array(list(itertools.product(alpha_x1, alpha_x2, alpha_x3)))\n",
    "\n",
    "    m = np.zeros([int(n_variables + (n_variables**2 - n_variables)/2 + n_variables), len(combinations)]) ## define matrix m\n",
    "\n",
    "    for i in range(n_variables):                            ## First rows: bins\n",
    "        m[i] = combinations.transpose()[i]\n",
    "\n",
    "    variance = []\n",
    "    for i in range(n_variables):\n",
    "        for j in range(n_variables):\n",
    "            if i >= j:\n",
    "                variance.append( (m[i] - np.mean(sample[:, i])) * (m[j] - np.mean(sample[:, j])) )\n",
    "\n",
    "    for i in range(len(variance)):                          ## then, variances\n",
    "        m[i + n_variables] = variance[i]\n",
    "\n",
    "    D = np.array([np.ones(np.shape(m)[1])])\n",
    "    E = np.vstack([m, D])\n",
    "    rho = null_space(D)\n",
    "    t = null_space(E)\n",
    "\n",
    "    p = np.zeros([np.shape(m)[0] + 1, np.shape(m)[1]])\n",
    "    p[0] = np.ones(np.shape(m)[1]) * 1/np.shape(m)[1]\n",
    "\n",
    "    p = p[0]\n",
    "    \n",
    "    return(H, p, m, rho, t)\n",
    "\n",
    "def correct(N, p, m, rho, t, eps1, eps2, eps3, eps4, eps5, eps6, eps7, eps8, eps9):\n",
    "    \n",
    "    A = np.zeros([np.shape(rho)[1], np.shape(rho)[1]])\n",
    "    b = np.zeros(np.shape(rho)[1])\n",
    "    R = np.zeros([N, 600])\n",
    "    \n",
    "    for k in range(N):\n",
    "        for i in range(np.shape(t)[1]):\n",
    "            for j in range(np.shape(rho)[1]):\n",
    "                A[i][j] = np.dot(t[:, i], np.dot(np.diag(-1/p), rho[:, j]))\n",
    "\n",
    "        for j in range(np.shape(rho)[1]):\n",
    "            \n",
    "            A[-9][j] = np.dot(rho[:, j], m[0])\n",
    "            A[-8][j] = np.dot(rho[:, j], m[1])\n",
    "            A[-7][j] = np.dot(rho[:, j], m[2])\n",
    "            A[-6][j] = np.dot(rho[:, j], m[3])\n",
    "            A[-5][j] = np.dot(rho[:, j], m[4])\n",
    "            A[-4][j] = np.dot(rho[:, j], m[5])\n",
    "            A[-3][j] = np.dot(rho[:, j], m[6])\n",
    "            A[-2][j] = np.dot(rho[:, j], m[7])\n",
    "            A[-1][j] = np.dot(rho[:, j], m[8])\n",
    "\n",
    "        for i in range(np.shape(t)[1]):\n",
    "            b[i] = np.dot((1 + np.log(p)), t[:, i])\n",
    "        \n",
    "        b[-9] = eps1\n",
    "        b[-8] = eps2\n",
    "        b[-7] = eps3\n",
    "        b[-6] = eps4   \n",
    "        b[-5] = eps5\n",
    "        b[-4] = eps6\n",
    "        b[-3] = eps7\n",
    "        b[-2] = eps8\n",
    "        b[-1] = eps9\n",
    "\n",
    "\n",
    "        mu = np.linalg.solve(A, b)\n",
    "        delta_c = np.dot(mu, rho.transpose())\n",
    "\n",
    "        p = p + delta_c\n",
    "        R[k] = p\n",
    "        \n",
    "    return(R)\n",
    "\n",
    "def auto_correct(H, p, m, rho, t):\n",
    "    for i in tqdm.tqdm(range(np.shape(m)[0])):\n",
    "        \n",
    "        res = np.dot(m[i], H.flatten()/sum(H.flatten())) - np.dot(m[i], p)\n",
    "        if abs(res)>=.1:\n",
    "            eps = res/2\n",
    "            a = np.zeros(np.shape(m)[0])\n",
    "            a[i] = eps\n",
    "            l = correct(2, p, m, rho, t, a[0], a[1], a[2], a[3], a[4], a[5], a[6], a[7], a[8])\n",
    "            p = l[-1]\n",
    "            print(p)\n",
    "            \n",
    "    return(p)"
   ]
  },
  {
   "cell_type": "code",
   "execution_count": 37,
   "metadata": {},
   "outputs": [
    {
     "name": "stderr",
     "output_type": "stream",
     "text": [
      "100%|██████████| 16763/16763 [00:00<00:00, 158065.15it/s]\n"
     ]
    }
   ],
   "source": [
    "import tqdm\n",
    "rows_to_drop = []\n",
    "for i in tqdm.tqdm(range(len(Data))):\n",
    "    if 'Cu' in Data.index[i] or 'Fe' in Data.index[i] or 'Ni' in Data.index[i] or 'O' in Data.index[i] or Data['Tc'].iloc[i]>50:\n",
    "        rows_to_drop.append(Data.index[i])"
   ]
  },
  {
   "cell_type": "code",
   "execution_count": null,
   "metadata": {},
   "outputs": [],
   "source": [
    "train_df['class'] = 0\n",
    "for i in range(len(train_df)):\n",
    "    if train_df['Tc'].iloc[i] >= 15:\n",
    "        train_df['class'].iloc[i] = 1\n",
    "        \n",
    "test_df['class'] = 0\n",
    "for i in range(len(test_df)):\n",
    "    if test_df['Tc'].iloc[i] >= 15:\n",
    "        test_df['class'].iloc[i] = 1\n",
    "\n",
    "class_data = test_df[['MagpieData range MeltingT', '0-norm', 'MagpieData mode NdUnfilled', 'class']]\n",
    "class_data[['bin_dimension_1', 'bin_dimension_2', 'bin_dimension_3']] = 0"
   ]
  },
  {
   "cell_type": "code",
   "execution_count": null,
   "metadata": {},
   "outputs": [],
   "source": [
    "J0 = np.zeros([1, 600])\n",
    "J1 = np.zeros([1, 600])\n",
    "\n",
    "for i in tqdm.tqdm(range(1)):\n",
    "    \n",
    "    data0 = train_df[train_df['Tc']<15]\n",
    "    data1 = train_df[train_df['Tc']>=15]\n",
    "    sample0 = np.array([data0['MagpieData range MeltingT'].values, \n",
    "                        data0['0-norm'].values, \n",
    "                        data0['MagpieData mode NdUnfilled'].values]).transpose()\n",
    "    sample1 = np.array([data1['MagpieData range MeltingT'].values, \n",
    "                        data1['0-norm'].values, \n",
    "                        data1['MagpieData mode NdUnfilled'].values]).transpose()\n",
    "    \n",
    "    H0, p0, m0, rho0, t0 = define_system(sample0)\n",
    "    H1, p1, m1, rho1, t1 = define_system(sample1)\n",
    "    \n",
    "    J0[i] = auto_correct(H0, p0, m0, rho0, t0)\n",
    "    J1[i] = auto_correct(H1, p1, m1, rho1, t1)"
   ]
  }
 ],
 "metadata": {
  "kernelspec": {
   "display_name": "Python 3",
   "language": "python",
   "name": "python3"
  },
  "language_info": {
   "codemirror_mode": {
    "name": "ipython",
    "version": 3
   },
   "file_extension": ".py",
   "mimetype": "text/x-python",
   "name": "python",
   "nbconvert_exporter": "python",
   "pygments_lexer": "ipython3",
   "version": "3.7.6"
  }
 },
 "nbformat": 4,
 "nbformat_minor": 4
}
