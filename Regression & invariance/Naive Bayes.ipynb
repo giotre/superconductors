{
 "cells": [
  {
   "cell_type": "code",
   "execution_count": 1,
   "metadata": {},
   "outputs": [],
   "source": [
    "import pandas as pd\n",
    "import numpy as np\n",
    "from sklearn.model_selection import train_test_split\n",
    "from sklearn.naive_bayes import GaussianNB"
   ]
  },
  {
   "cell_type": "code",
   "execution_count": 3,
   "metadata": {},
   "outputs": [],
   "source": [
    "Data = pd.read_excel(r'database.xlsx', index_col=0)\n",
    "\n",
    "import tqdm\n",
    "rows_to_drop = []\n",
    "for i in tqdm.tqdm(range(len(Data))):\n",
    "    if 'Cu' in Data.index[i] or 'Fe' in Data.index[i] or 'Ni' in Data.index[i] or 'O' in Data.index[i] or Data['Tc'].iloc[i]>50:\n",
    "        rows_to_drop.append(Data.index[i])\n",
    "        \n",
    "data_reduced = Data.drop(rows_to_drop)\n",
    "\n",
    "data_reduced['class'] = 0\n",
    "for i in range(len(data_reduced)):\n",
    "    if data_reduced['Tc'].iloc[i] >= 15:\n",
    "        data_reduced['class'].iloc[i] = 1\n",
    "        \n",
    "data = data_reduced.drop('Tc', axis = 1)\n",
    "train_df, test_df = train_test_split(data, test_size = 0.15, random_state = 0)"
   ]
  },
  {
   "cell_type": "code",
   "execution_count": 16,
   "metadata": {},
   "outputs": [],
   "source": [
    "'''Code for any Naive of 2D classifier used in this work'''\n",
    "\n",
    "gnb = GaussianNB()\n",
    "y_pred = gnb.fit(train_df[['feature 1', 'feature 2']], \n",
    "                 train_df['class']).predict_proba(test_df[['feature 1', 'feature 2']])"
   ]
  }
 ],
 "metadata": {
  "kernelspec": {
   "display_name": "Python 3",
   "language": "python",
   "name": "python3"
  },
  "language_info": {
   "codemirror_mode": {
    "name": "ipython",
    "version": 3
   },
   "file_extension": ".py",
   "mimetype": "text/x-python",
   "name": "python",
   "nbconvert_exporter": "python",
   "pygments_lexer": "ipython3",
   "version": "3.7.6"
  }
 },
 "nbformat": 4,
 "nbformat_minor": 4
}
